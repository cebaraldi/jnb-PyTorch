{
 "cells": [
  {
   "cell_type": "markdown",
   "id": "8fd15d2e-9073-40db-af1b-76b9ed3745af",
   "metadata": {},
   "source": [
    "# PyTorch Tutorial Series\n",
    "\n",
    "[pytorch1](https://github.com/lukepolson/youtube_channel/blob/main/Python%20Tutorial%20Series/pytorch1.ipynb)"
   ]
  },
  {
   "cell_type": "code",
   "execution_count": 1,
   "id": "a50a969a-31b3-41af-9cd7-8ce30b46fdc9",
   "metadata": {},
   "outputs": [],
   "source": [
    "%reset -sf"
   ]
  },
  {
   "cell_type": "code",
   "execution_count": 2,
   "id": "fb4c5977-ce19-4fc4-bd36-a22ce1ea2403",
   "metadata": {},
   "outputs": [],
   "source": [
    "import torch\n",
    "import torch.nn as nn\n",
    "import numpy as np\n",
    "import matplotlib.pyplot as plt\n",
    "import time"
   ]
  },
  {
   "cell_type": "markdown",
   "id": "66b1f47b-cd31-49aa-87bf-d9bd419f18b1",
   "metadata": {},
   "source": [
    "*pytorch* is a python package which enables users to train state-of-the-art machine learning/deep learning models. In order to efficiently use *pytorch*, one needs to have a firm understanding of the basic building blocks of pytorch: the *torch.tensor* object. In many ways, it's similar to a numpy array\n",
    "\n",
    "## Numpy vs. Torch\n",
    "\n",
    "Numpy **array** s and pytorch **tensor** s can be created in the same way:"
   ]
  },
  {
   "cell_type": "code",
   "execution_count": 3,
   "id": "b9d4ca4b-67f6-473d-ae16-c3bd055702cc",
   "metadata": {},
   "outputs": [],
   "source": [
    "n = np.linspace(0,1,5)\n",
    "t = torch.linspace(0,1,5)"
   ]
  },
  {
   "cell_type": "markdown",
   "id": "e7dc77a8-ebfe-440b-8446-40b7e2421b51",
   "metadata": {},
   "source": [
    "They can be resized in similar ways"
   ]
  },
  {
   "cell_type": "code",
   "execution_count": 4,
   "id": "4f6ceccb-b4fd-48cd-a87b-2df7f7eedda7",
   "metadata": {},
   "outputs": [],
   "source": [
    "n = np.arange(48).reshape(3,4,4)\n",
    "t = torch.arange(48).reshape(3,4,4)"
   ]
  },
  {
   "cell_type": "markdown",
   "id": "776b4726-301b-44d5-b875-a06a285767a6",
   "metadata": {},
   "source": [
    "Most importantly, they have the same broadcasting rules. In order to use pytorch (and even numpy for that matter) most efficiently, one needs to have a very strong grasp on the **broadcasting rules**.\n",
    "\n",
    "## General Broadcasting Rules\n",
    "\n",
    "When operating on two arrays, NumPy compares their shapes element-wise. It starts with the trailing (i.e. rightmost) dimensions and works its way left. Two dimensions are compatible when\n",
    "\n",
    "1. they are equal, or\n",
    "1. one of them is 1\n",
    "\n",
    "**Example**: The following are compatible\n",
    "\n",
    "Shape 1: (1,6,4,1,7,2)\n",
    "\n",
    "Shape 2: (5,6,1,3,1,2)"
   ]
  },
  {
   "cell_type": "code",
   "execution_count": 5,
   "id": "08fb2a97-b760-4045-8ed7-3e6d738872fa",
   "metadata": {},
   "outputs": [],
   "source": [
    "a = np.ones((6,5))\n",
    "b = np.arange(5).reshape((1,5))"
   ]
  },
  {
   "cell_type": "code",
   "execution_count": 6,
   "id": "ea1eabbc-9bb9-4d40-87fc-6a605017ee16",
   "metadata": {},
   "outputs": [
    {
     "data": {
      "text/plain": [
       "array([[1., 2., 3., 4., 5.],\n",
       "       [1., 2., 3., 4., 5.],\n",
       "       [1., 2., 3., 4., 5.],\n",
       "       [1., 2., 3., 4., 5.],\n",
       "       [1., 2., 3., 4., 5.],\n",
       "       [1., 2., 3., 4., 5.]])"
      ]
     },
     "execution_count": 6,
     "metadata": {},
     "output_type": "execute_result"
    }
   ],
   "source": [
    "a+b"
   ]
  },
  {
   "cell_type": "code",
   "execution_count": 7,
   "id": "160c947c-bca5-4ee3-bbea-844619c9a081",
   "metadata": {},
   "outputs": [],
   "source": [
    "a = torch.ones((6,5))\n",
    "b = torch.arange(5).reshape((1,5))"
   ]
  },
  {
   "cell_type": "markdown",
   "id": "f0328eb6-785f-486c-b123-008dbd75c20c",
   "metadata": {},
   "source": [
    "The arrays/tensors don't need to have the same number of dimenions. If one of the arrays/tensors has less dimensions than the other\n",
    "\n",
    "**Example**: Scaling each other the color channels of an image by a different amount:\n",
    "\n",
    "    Image  (3d array): 256 x 256 x 3\n",
    "    Scale  (1d array):             3\n",
    "    Result (3d array): 256 x 256 x 3"
   ]
  },
  {
   "cell_type": "code",
   "execution_count": 8,
   "id": "ed3c0418-7f07-4288-a72f-b971fd3e8a26",
   "metadata": {},
   "outputs": [],
   "source": [
    "Image = torch.randn((256,256,3))\n",
    "Scale = torch.tensor([0.5,1.5,1])"
   ]
  },
  {
   "cell_type": "code",
   "execution_count": 9,
   "id": "b3ac4d00-113b-4406-b663-73890d5588a8",
   "metadata": {},
   "outputs": [],
   "source": [
    "Result = Image*Scale"
   ]
  },
  {
   "cell_type": "markdown",
   "id": "cce922cd-6cc0-4828-b9ed-5941b98069d1",
   "metadata": {},
   "source": [
    "**Example**: One has an array of 2 images and wants to scale the color channels of each image by a slightly different amount:\n",
    "\n",
    "    Images  (4d array): 2 x 256 x 256 x 3\n",
    "    Scales  (4d array): 2 x 1 x 1 x 3\n",
    "    Results  (4d array): 2 x 256 x 256 x 3"
   ]
  },
  {
   "cell_type": "code",
   "execution_count": 10,
   "id": "e3fddfca-3a41-4241-b5dc-817b2ec1c4c9",
   "metadata": {},
   "outputs": [],
   "source": [
    "Images = torch.randn((2,256,256,3))\n",
    "Scales = torch.tensor([0.5,1.5,1,1.5,1,0.5]).reshape((2,1,1,3))"
   ]
  },
  {
   "cell_type": "markdown",
   "id": "c52be2b8-78f5-4e30-9d98-291b9d9016ce",
   "metadata": {},
   "source": [
    "## Operations Across Dimensions\n",
    "\n",
    "This is so fundamental for pytorch. Obviously simple operations can be done one 1 dimensional tensors:"
   ]
  },
  {
   "cell_type": "code",
   "execution_count": 11,
   "id": "6d17b4f8-d768-4321-8df5-9145f581354d",
   "metadata": {},
   "outputs": [
    {
     "data": {
      "text/plain": [
       "(tensor(2.1250), tensor(1.6520), tensor(4.), tensor(0.5000))"
      ]
     },
     "execution_count": 11,
     "metadata": {},
     "output_type": "execute_result"
    }
   ],
   "source": [
    "t = torch.tensor([0.5,1,3,4])\n",
    "torch.mean(t), torch.std(t), torch.max(t), torch.min(t)"
   ]
  },
  {
   "cell_type": "markdown",
   "id": "08462be0-498b-49fc-9d1a-3d3d3d33d770",
   "metadata": {},
   "source": [
    "But suppose we have a 2d tensor, for example, and want to compute the mean value of each columns:\n",
    "\n",
    "- Note: taking the mean **of** each column means taking the mean **across** the rows (which are the first dimension)"
   ]
  },
  {
   "cell_type": "code",
   "execution_count": 12,
   "id": "3c1fe4a7-33a1-4136-9189-46bee14da58a",
   "metadata": {},
   "outputs": [],
   "source": [
    "t = torch.arange(20, dtype=float).reshape(5,4)"
   ]
  },
  {
   "cell_type": "code",
   "execution_count": 13,
   "id": "78edda17-c46a-455f-b731-8941775a6677",
   "metadata": {},
   "outputs": [
    {
     "data": {
      "text/plain": [
       "tensor([ 8.,  9., 10., 11.], dtype=torch.float64)"
      ]
     },
     "execution_count": 13,
     "metadata": {},
     "output_type": "execute_result"
    }
   ],
   "source": [
    "t = torch.arange(20, dtype=float).reshape(5,4)\n",
    "torch.mean(t, axis=0)"
   ]
  },
  {
   "cell_type": "markdown",
   "id": "90c2a481-16c3-4460-b333-afff86c70443",
   "metadata": {},
   "source": [
    "This can be done for higher dimensionality arrays as well"
   ]
  },
  {
   "cell_type": "code",
   "execution_count": 14,
   "id": "16b85911-00ab-456b-8c52-157d18edf82b",
   "metadata": {},
   "outputs": [],
   "source": [
    "t = torch.randn(5,256,256,3)"
   ]
  },
  {
   "cell_type": "markdown",
   "id": "3d08592a-a369-4df3-bc8a-ce8609dfb966",
   "metadata": {},
   "source": [
    "Take the mean across the batch (size 5)"
   ]
  },
  {
   "cell_type": "code",
   "execution_count": 15,
   "id": "c3ad90d2-4a12-4892-8636-bc6dc9581e68",
   "metadata": {},
   "outputs": [
    {
     "data": {
      "text/plain": [
       "torch.Size([256, 256, 3])"
      ]
     },
     "execution_count": 15,
     "metadata": {},
     "output_type": "execute_result"
    }
   ],
   "source": [
    "torch.mean(t,axis=0).shape"
   ]
  },
  {
   "cell_type": "markdown",
   "id": "b932e3cd-12a7-4773-a046-15c94365e360",
   "metadata": {},
   "source": [
    "Take the mean across the color channels:"
   ]
  },
  {
   "cell_type": "code",
   "execution_count": 16,
   "id": "23989e3b-99c5-49d8-8992-942903eb79d6",
   "metadata": {},
   "outputs": [
    {
     "data": {
      "text/plain": [
       "torch.Size([5, 256, 256])"
      ]
     },
     "execution_count": 16,
     "metadata": {},
     "output_type": "execute_result"
    }
   ],
   "source": [
    "torch.mean(t,axis=-1).shape"
   ]
  },
  {
   "cell_type": "markdown",
   "id": "a2534fd8-6115-443c-865a-a13c30f19ff0",
   "metadata": {},
   "source": [
    "Take only the maximum color channel values (and get the corresponding indices):\n",
    "\n",
    "* This is done all the time in image segmentation models (i.e. take an image, decide which pixels correspond to, say, a car)"
   ]
  },
  {
   "cell_type": "code",
   "execution_count": 17,
   "id": "4ec61b34-4a5f-4568-915e-714747b46edd",
   "metadata": {},
   "outputs": [],
   "source": [
    "values, indices = torch.max(t,axis=-1)"
   ]
  },
  {
   "cell_type": "markdown",
   "id": "c5a8d9f8-4c8b-48a4-95d2-9dbfa64c08b6",
   "metadata": {},
   "source": [
    "## So Where Do Pytorch and Numpy Differ?\n",
    "\n",
    "Pytorch starts to really differ from numpy in terms of automatically computing gradients of operations\n",
    "\n",
    "$$\n",
    "y = \\sum_i x^3_i \n",
    "$$\n",
    " \n",
    "has a gradient\n",
    "\n",
    "$$\n",
    "\\frac{\\partial y}{\\partial x_i} = 3x^2_i\n",
    "$$\n",
    "\n",
    "\n",
    " \n"
   ]
  },
  {
   "cell_type": "code",
   "execution_count": 18,
   "id": "3f37c8dd-61a4-4bcb-a6e1-3bbbac8a808b",
   "metadata": {},
   "outputs": [],
   "source": [
    "x = torch.tensor([[5.,8.],[4.,6.]], requires_grad=True)"
   ]
  },
  {
   "cell_type": "code",
   "execution_count": 19,
   "id": "5ea3a8ac-daa5-4672-918c-1216c6f2a1ed",
   "metadata": {},
   "outputs": [
    {
     "data": {
      "text/plain": [
       "tensor(917., grad_fn=<SumBackward0>)"
      ]
     },
     "execution_count": 19,
     "metadata": {},
     "output_type": "execute_result"
    }
   ],
   "source": [
    "x = torch.tensor([[5.,8.],[4.,6.]], requires_grad=True)\n",
    "y = x.pow(3).sum()\n",
    "y"
   ]
  },
  {
   "cell_type": "markdown",
   "id": "88682f9a-53a3-49e1-821c-f1a37a42512b",
   "metadata": {},
   "source": [
    "Compute the gradient:"
   ]
  },
  {
   "cell_type": "code",
   "execution_count": 20,
   "id": "7903672c-e26f-4c1d-a536-f341867e1160",
   "metadata": {},
   "outputs": [
    {
     "data": {
      "text/plain": [
       "tensor([[ 75., 192.],\n",
       "        [ 48., 108.]])"
      ]
     },
     "execution_count": 20,
     "metadata": {},
     "output_type": "execute_result"
    }
   ],
   "source": [
    "y.backward() #compute the gradient\n",
    "x.grad #print the gradient (everything that has happened to x)"
   ]
  },
  {
   "cell_type": "markdown",
   "id": "eff26a9e-709f-4a19-84e1-c4bba29894a3",
   "metadata": {},
   "source": [
    "Double check using the analytical formula:"
   ]
  },
  {
   "cell_type": "code",
   "execution_count": 21,
   "id": "730c5eb2-d81f-4f24-b18f-838e5dbb8711",
   "metadata": {},
   "outputs": [
    {
     "data": {
      "text/plain": [
       "tensor([[ 75., 192.],\n",
       "        [ 48., 108.]], grad_fn=<MulBackward0>)"
      ]
     },
     "execution_count": 21,
     "metadata": {},
     "output_type": "execute_result"
    }
   ],
   "source": [
    "3*x**2"
   ]
  },
  {
   "cell_type": "markdown",
   "id": "23fb93d8-d544-4a85-b9fd-aaca6b460c57",
   "metadata": {},
   "source": [
    "The automatic computation of gradients is the backbone of training deep learning models. Unlike in the example above, most gradient computations don't have an analytical formula, so the automatic computation of gradients is essential. In general, if one has\n",
    "\n",
    "$$\n",
    "y=f(\\overrightarrow{x})\n",
    "$$\n",
    "\n",
    "Then pytorch can compute $\\partial y/\\partial x_i$. For each of element of the vector $\\overrightarrow{x}$. In the context of machine learning, $\\overrightarrow{x}$ contains all the weights (also known as parameters) of the neural network and y is the **Loss Function** of the neural network.\n",
    "\n",
    "## Additional Benefits\n",
    "\n",
    "**In addition, any sort of large matrix multiplication problem is faster with torch tensors than it is with numpy arrays, especially if you're running on a GPU**\n",
    "\n",
    "Using torch: (with a CPU. With GPU, this is much much faster)"
   ]
  },
  {
   "cell_type": "code",
   "execution_count": 22,
   "id": "99e8b1aa-a8f8-4989-a47c-a0e495aaa192",
   "metadata": {},
   "outputs": [],
   "source": [
    "A = torch.randn((1000,1000))\n",
    "B = torch.randn((1000,1000))"
   ]
  },
  {
   "cell_type": "code",
   "execution_count": 23,
   "id": "4f6f9fc8-3935-4e99-b3b5-026d70f29384",
   "metadata": {},
   "outputs": [
    {
     "name": "stdout",
     "output_type": "stream",
     "text": [
      "0.3374727119989984\n"
     ]
    }
   ],
   "source": [
    "t1 = time.perf_counter()\n",
    "torch.matmul(A,B)\n",
    "t2 = time.perf_counter()\n",
    "print(t2-t1)"
   ]
  },
  {
   "cell_type": "markdown",
   "id": "bb70ff5c-eff2-4675-b09a-0ea2ada8af1d",
   "metadata": {},
   "source": [
    "Using numpy:"
   ]
  },
  {
   "cell_type": "code",
   "execution_count": 24,
   "id": "4dbd5931-d616-4771-9fe6-32df6c35d41d",
   "metadata": {},
   "outputs": [],
   "source": [
    "A = np.random.randn(int(1e6)).reshape((1000,1000))\n",
    "B = np.random.randn(int(1e6)).reshape((1000,1000))"
   ]
  },
  {
   "cell_type": "code",
   "execution_count": 25,
   "id": "7173b66e-b8b9-4868-b0af-563e239ba759",
   "metadata": {},
   "outputs": [
    {
     "name": "stdout",
     "output_type": "stream",
     "text": [
      "0.3057154250018357\n"
     ]
    }
   ],
   "source": [
    "t1 = time.perf_counter()\n",
    "A@B\n",
    "t2 = time.perf_counter()\n",
    "print(t2-t1)"
   ]
  }
 ],
 "metadata": {
  "kernelspec": {
   "display_name": "Python 3 (ipykernel)",
   "language": "python",
   "name": "python3"
  },
  "language_info": {
   "codemirror_mode": {
    "name": "ipython",
    "version": 3
   },
   "file_extension": ".py",
   "mimetype": "text/x-python",
   "name": "python",
   "nbconvert_exporter": "python",
   "pygments_lexer": "ipython3",
   "version": "3.10.10"
  }
 },
 "nbformat": 4,
 "nbformat_minor": 5
}
