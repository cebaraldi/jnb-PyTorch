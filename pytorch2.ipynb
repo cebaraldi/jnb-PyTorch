{
 "cells": [
  {
   "cell_type": "markdown",
   "id": "942c1ff8-bad5-479e-a0c8-9f78f1db3b42",
   "metadata": {},
   "source": [
    "# PyTorch Tutorial Series\n",
    "\n",
    "[pytorch2](https://github.com/lukepolson/youtube_channel/blob/main/Python%20Tutorial%20Series/pytorch2.ipynb)"
   ]
  },
  {
   "cell_type": "code",
   "execution_count": 27,
   "id": "242bf8a4-a987-40b5-b585-ca5ed4a07b4c",
   "metadata": {},
   "outputs": [],
   "source": [
    "%reset -sf"
   ]
  },
  {
   "cell_type": "code",
   "execution_count": 28,
   "id": "508b40ab-80e4-42f2-a7b2-1dd4775a7782",
   "metadata": {},
   "outputs": [],
   "source": [
    "import torch\n",
    "import torch.nn as nn\n",
    "from torch.optim import SGD\n",
    "import numpy as np\n",
    "import matplotlib.pyplot as plt"
   ]
  },
  {
   "cell_type": "markdown",
   "id": "39f5ee2d-8154-4494-9075-54d1d1d49459",
   "metadata": {},
   "source": [
    "Suppose one has data that consists of an independent vector a dependent vector $x_i$ and $y_i$ ($i$ is the ith value in the data set). For example:\n",
    "\n",
    "- $x_i$ is the height of the th person, and  is their weight (predict weight using height)\n",
    "- $x_i$ is a picture of a handwritten digit, and  is the digit itself (predict numbers from hand written numbers)\n",
    "- $x_i$ is a CT scan of a patient, and  are the corresponding pixels corresponding to tumours (my research)\n",
    "\n",
    "The goal of a neural network is as follows. Define a function $f$ that depends on parameters  that makes predictions\n",
    "$$\n",
    "\\hat{y}_i = f(x_i;a)\n",
    "$$\n",
    "One wants to make $\\hat{y}_i$ (the predictions) and $y_i$ (the true values) as close as possible by modifying the values of . What does as close as possible mean? This depends on the task. In general, one defines a similarity function (or **Loss** function) $L(y,\\hat{y}_i)$. The more similar all the $\\hat{y}_i$s and $y_i$s are, the smaller $L$ should be. For example 1 above, this could be as simple as\n",
    " \n",
    "$$\n",
    "L(y,\\hat{y}_i)=\\sum_i(y_i-\\hat{y}_i)^2\n",
    "$$"
   ]
  },
  {
   "cell_type": "code",
   "execution_count": 29,
   "id": "5ee4957c-0a2e-4d2e-80f0-cc927b053e94",
   "metadata": {},
   "outputs": [],
   "source": [
    "x = torch.tensor([[6,2],[5,2],[1,3],[7,6]]).float()\n",
    "y = torch.tensor([1,5,2,5]).float()"
   ]
  },
  {
   "cell_type": "markdown",
   "id": "6863fc37-fe36-4b1b-ab3f-5cd8803c3b7f",
   "metadata": {},
   "source": [
    "- So $x_1=(6,2)$, $x_2=(5,2)$ , $\\ldots$\n",
    "- So $y_1=1$, $y_2=5$, $\\dots$\n",
    "\n",
    "We want to find a function $f$ that depends on $a$ parameters that lets us get from $x$  to $y$.\n",
    "\n",
    "**Idea**:\n",
    "\n",
    "1. First multiply each element in $x$ by a $8\\times2$ matrix (this is 16 parameters $a_i$)\n",
    "1. Then multiply each element in $x$ by a $1 \\times 8$ matrix (this is 8 parameters $a_i$)\n",
    "\n",
    "Define a matrix (takes in a 2d vector and returns a 8d vector).\n",
    "\n",
    "- **IMPORTANT**: When the matrix is created, it is initially created with random values."
   ]
  },
  {
   "cell_type": "code",
   "execution_count": 30,
   "id": "baf7239c-9ba7-4af8-b312-24b2abf83964",
   "metadata": {},
   "outputs": [
    {
     "data": {
      "text/plain": [
       "Linear(in_features=2, out_features=8, bias=False)"
      ]
     },
     "execution_count": 30,
     "metadata": {},
     "output_type": "execute_result"
    }
   ],
   "source": [
    "M1 = nn.Linear(2,8,bias=False)\n",
    "M1"
   ]
  },
  {
   "cell_type": "markdown",
   "id": "527d582c-eb74-4d6b-aa5a-0a4192d80489",
   "metadata": {},
   "source": [
    "If one passes in a vector $x$ (the dataset) where each element $x_i$ (an instance) is a 2d vector, $M$ will apply the same matrix multiplication to each element $x_i$."
   ]
  },
  {
   "cell_type": "code",
   "execution_count": 31,
   "id": "e62a97b4-758f-4005-8ecb-ab4c7205f7d8",
   "metadata": {},
   "outputs": [
    {
     "data": {
      "text/plain": [
       "tensor([[ 0.9294, -0.5561,  1.2425,  2.5758,  1.3992, -1.7487, -4.2304, -0.0229],\n",
       "        [ 0.5890, -0.3536,  1.2033,  2.0617,  0.9714, -1.3275, -3.7537,  0.1988],\n",
       "        [-1.3292,  0.7859,  1.5501, -0.2490, -1.3237,  0.7467, -2.5318,  1.7396],\n",
       "        [-0.9564,  0.5592,  3.2963,  2.0725, -0.5083, -0.6127, -7.4473,  2.3704]],\n",
       "       grad_fn=<MmBackward0>)"
      ]
     },
     "execution_count": 31,
     "metadata": {},
     "output_type": "execute_result"
    }
   ],
   "source": [
    "M1(x)"
   ]
  },
  {
   "cell_type": "markdown",
   "id": "2d1d1242-909c-43cc-a63e-c06ee1993395",
   "metadata": {},
   "source": [
    "We can chain this with a second matrix $M2$"
   ]
  },
  {
   "cell_type": "code",
   "execution_count": 32,
   "id": "fab7697c-29ba-4d93-99e5-2b5bcd7e96ff",
   "metadata": {},
   "outputs": [
    {
     "data": {
      "text/plain": [
       "Linear(in_features=8, out_features=1, bias=False)"
      ]
     },
     "execution_count": 32,
     "metadata": {},
     "output_type": "execute_result"
    }
   ],
   "source": [
    "M2 = nn.Linear(8,1, bias=False)\n",
    "M2"
   ]
  },
  {
   "cell_type": "code",
   "execution_count": 33,
   "id": "7a27da02-8927-4bd0-9976-289970312e07",
   "metadata": {},
   "outputs": [
    {
     "data": {
      "text/plain": [
       "tensor([-2.7316, -2.3255, -0.8484, -3.7275], grad_fn=<SqueezeBackward0>)"
      ]
     },
     "execution_count": 33,
     "metadata": {},
     "output_type": "execute_result"
    }
   ],
   "source": [
    "M2(M1(x)).squeeze()"
   ]
  },
  {
   "cell_type": "code",
   "execution_count": 34,
   "id": "14336004-ff5e-4d55-b1a1-c39fb4062204",
   "metadata": {},
   "outputs": [
    {
     "data": {
      "text/plain": [
       "tensor([1., 5., 2., 5.])"
      ]
     },
     "execution_count": 34,
     "metadata": {},
     "output_type": "execute_result"
    }
   ],
   "source": [
    "y"
   ]
  },
  {
   "cell_type": "markdown",
   "id": "0fde24df-93b1-44e5-a178-884b32805fec",
   "metadata": {},
   "source": [
    "The weights of the matrices $M1$ and $M2$ consitute the weights $a$ of the network defined above. In order to optimize for these weights, we first construct our network $f$ as follows:"
   ]
  },
  {
   "cell_type": "code",
   "execution_count": 35,
   "id": "a9a3a8cc-f8cb-4c7b-8574-fe118ab6bd85",
   "metadata": {},
   "outputs": [],
   "source": [
    "class MyNeuralNet(nn.Module):\n",
    "    def __init__(self):\n",
    "        super().__init__()\n",
    "        self.Matrix1 = nn.Linear(2,8,bias=False)\n",
    "        self.Matrix2 = nn.Linear(8,1,bias=False)\n",
    "    def forward(self,x):\n",
    "        x = self.Matrix1(x)\n",
    "        x = self.Matrix2(x)\n",
    "        return x.squeeze()"
   ]
  },
  {
   "cell_type": "markdown",
   "id": "5be687f3-c229-49ae-b14d-0ea4a7ed7054",
   "metadata": {},
   "source": [
    "Constructing the network using a subclass of the nn.Module allows the parameters of the network to be conveniently stored. This will be useful later when we need to adjust them."
   ]
  },
  {
   "cell_type": "code",
   "execution_count": 36,
   "id": "c0821162-6a9e-4810-93f2-345306c8758c",
   "metadata": {},
   "outputs": [],
   "source": [
    "f = MyNeuralNet()"
   ]
  },
  {
   "cell_type": "markdown",
   "id": "290013a4-6e76-4d0b-9073-b839e81b968b",
   "metadata": {},
   "source": [
    "Pass in data to the network."
   ]
  },
  {
   "cell_type": "code",
   "execution_count": 37,
   "id": "7c341ef9-2d19-42d0-9c55-7051d5da0c6a",
   "metadata": {},
   "outputs": [
    {
     "data": {
      "text/plain": [
       "tensor([-2.4931, -2.0885, -0.5028, -3.0286], grad_fn=<SqueezeBackward0>)"
      ]
     },
     "execution_count": 37,
     "metadata": {},
     "output_type": "execute_result"
    }
   ],
   "source": [
    "yhat = f(x)\n",
    "yhat"
   ]
  },
  {
   "cell_type": "code",
   "execution_count": 38,
   "id": "0e300a39-ad24-4f38-8601-5be15f5d0d8d",
   "metadata": {},
   "outputs": [
    {
     "data": {
      "text/plain": [
       "tensor([1., 5., 2., 5.])"
      ]
     },
     "execution_count": 38,
     "metadata": {},
     "output_type": "execute_result"
    }
   ],
   "source": [
    "y"
   ]
  },
  {
   "cell_type": "markdown",
   "id": "0f0040fd-8811-4464-9b63-efd4de4ae777",
   "metadata": {},
   "source": [
    "## Adjusting $a$ so that $\\hat{y}$ and $y$ are similar\n",
    "\n",
    "Now we define the loss function $L$, which provides a metric of similarity between $y$ and $\\hat{y}$. In this case, we will use the mean squared error loss function:"
   ]
  },
  {
   "cell_type": "code",
   "execution_count": 39,
   "id": "faf3ccf2-3ae2-4094-bb2d-4905280234e5",
   "metadata": {},
   "outputs": [
    {
     "data": {
      "text/plain": [
       "tensor(33.2929, grad_fn=<MseLossBackward0>)"
      ]
     },
     "execution_count": 39,
     "metadata": {},
     "output_type": "execute_result"
    }
   ],
   "source": [
    "L = nn.MSELoss()\n",
    "L(y,yhat)"
   ]
  },
  {
   "cell_type": "markdown",
   "id": "a1751a52-e4e2-4c0b-ae24-414a43d2497a",
   "metadata": {},
   "source": [
    "Confirming it is doing the same as the regular mean-squared error:"
   ]
  },
  {
   "cell_type": "code",
   "execution_count": 40,
   "id": "3428e05c-29f6-4dd3-80eb-ad20d04aee0f",
   "metadata": {},
   "outputs": [
    {
     "data": {
      "text/plain": [
       "tensor(33.2929, grad_fn=<MeanBackward0>)"
      ]
     },
     "execution_count": 40,
     "metadata": {},
     "output_type": "execute_result"
    }
   ],
   "source": [
    "torch.mean((y-yhat)**2)"
   ]
  },
  {
   "cell_type": "markdown",
   "id": "773ce202-c582-4988-86cd-7838059d383a",
   "metadata": {},
   "source": [
    "Note that $L$ depends on $a$, since our predictions $\\hat{y}$\n",
    " depend on the parameters of the network $a$. In this sense, $L-L(a)$ . **The main idea behind machine learning** is to compute\n",
    "$$\n",
    "\\frac{\\partial L}{\\partial a_i}\n",
    "$$\n",
    "for each parameter $a_i$ of the network. Then we adjust each parameter as follows:\n",
    "$$\n",
    "a_i \\rightarrow a_i - \\ell\\frac{\\partial L}{\\partial a_i}\n",
    "$$\n",
    "where $\\ell$ is the learning rate.\n",
    "\n",
    "**Example**: A loss function that only depends on one parameter:"
   ]
  },
  {
   "cell_type": "markdown",
   "id": "6a6cb501-e2b3-4642-a2c2-d32e66d7d752",
   "metadata": {},
   "source": [
    "![title](./img/loss.png)"
   ]
  },
  {
   "cell_type": "markdown",
   "id": "c3173f75-e4bf-4459-b0e5-c07ada1584b6",
   "metadata": {},
   "source": [
    "The idea is to do this over and over again, until one reaches a minimum for $L$ . This is called **gradient descent**.\n",
    "\n",
    "- Each pass of the full data set $x$ is called an **epoch**. In this case, we are evaluating $\\partial L/\\partial a_i$ on the entire dataset $x$ each time we iterate $a_i \\rightarrow a_i - \\ell\\frac{\\partial L}{\\partial a_i}$, so each iteration corresponds to an epoch.\n",
    "\n",
    "The SGD (meaning stochastic gradient descent) takes in all model parameters $a$ along with the learning rate $\\ell$."
   ]
  },
  {
   "cell_type": "code",
   "execution_count": 41,
   "id": "4ae7242c-d935-4653-a8bb-452925b0e928",
   "metadata": {},
   "outputs": [],
   "source": [
    "opt = SGD(f.parameters(), lr=0.001)"
   ]
  },
  {
   "cell_type": "markdown",
   "id": "db8f6eb0-c4fa-4508-8069-2c6bef1e761d",
   "metadata": {},
   "source": [
    "Adjust the parameters over and over:"
   ]
  },
  {
   "cell_type": "code",
   "execution_count": 42,
   "id": "76906ed1-926e-4eca-a703-dd394443688a",
   "metadata": {},
   "outputs": [],
   "source": [
    "losses = []\n",
    "for _ in range(50):\n",
    "    opt.zero_grad() # flush previous epoch's gradient\n",
    "    loss_value = L(f(x), y) #compute loss\n",
    "    loss_value.backward() # compute gradient\n",
    "    opt.step() # Perform iteration using gradient above\n",
    "    losses.append(loss_value.item())"
   ]
  },
  {
   "cell_type": "markdown",
   "id": "f925a3bd-8408-4cbc-a48b-9b2fc80cd749",
   "metadata": {},
   "source": [
    "Plot $L(a)$ as a function of number of iterations"
   ]
  },
  {
   "cell_type": "code",
   "execution_count": 43,
   "id": "efd932ec-6cd1-4f12-a629-3e223b87741a",
   "metadata": {},
   "outputs": [
    {
     "data": {
      "text/plain": [
       "Text(0.5, 0, 'Epochs')"
      ]
     },
     "execution_count": 43,
     "metadata": {},
     "output_type": "execute_result"
    },
    {
     "data": {
      "image/png": "[encoded data removed]",
      "text/plain": [
       "<Figure size 640x480 with 1 Axes>"
      ]
     },
     "metadata": {},
     "output_type": "display_data"
    }
   ],
   "source": [
    "plt.plot(losses)\n",
    "plt.ylabel('Loss $L(y,\\hat{y};a)$')\n",
    "plt.xlabel('Epochs')"
   ]
  },
  {
   "cell_type": "markdown",
   "id": "aab6af2d-fe8a-4cd7-963c-24b7ad57f6c9",
   "metadata": {},
   "source": [
    "This is as close as we can make the model $f$ predict $y$ from $x$:"
   ]
  },
  {
   "cell_type": "code",
   "execution_count": 44,
   "id": "b1b4dfb1-a6cc-44a4-bdb1-88f5ffbb5ffa",
   "metadata": {},
   "outputs": [
    {
     "data": {
      "text/plain": [
       "tensor([3.2905, 2.8312, 1.2614, 4.8192], grad_fn=<SqueezeBackward0>)"
      ]
     },
     "execution_count": 44,
     "metadata": {},
     "output_type": "execute_result"
    }
   ],
   "source": [
    "f(x)"
   ]
  },
  {
   "cell_type": "code",
   "execution_count": 45,
   "id": "f14db3f0-4a76-4ed9-aedc-af7c82f6cce3",
   "metadata": {},
   "outputs": [
    {
     "data": {
      "text/plain": [
       "tensor([1., 5., 2., 5.])"
      ]
     },
     "execution_count": 45,
     "metadata": {},
     "output_type": "execute_result"
    }
   ],
   "source": [
    "y"
   ]
  }
 ],
 "metadata": {
  "kernelspec": {
   "display_name": "Python 3 (ipykernel)",
   "language": "python",
   "name": "python3"
  },
  "language_info": {
   "codemirror_mode": {
    "name": "ipython",
    "version": 3
   },
   "file_extension": ".py",
   "mimetype": "text/x-python",
   "name": "python",
   "nbconvert_exporter": "python",
   "pygments_lexer": "ipython3",
   "version": "3.10.10"
  }
 },
 "nbformat": 4,
 "nbformat_minor": 5
}
