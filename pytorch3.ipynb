{
 "cells": [
  {
   "cell_type": "markdown",
   "id": "9aec9f4b-02f8-4b03-bbc1-ba9d709a08b3",
   "metadata": {},
   "source": [
    "# PyTorch Tutorial Series\n",
    "\n",
    "[pytorch3](https://github.com/lukepolson/youtube_channel/blob/main/Python%20Tutorial%20Series/pytorch3.ipynb)"
   ]
  },
  {
   "cell_type": "code",
   "execution_count": 19,
   "id": "a22e975d-61e7-450d-8aa6-2433deab8571",
   "metadata": {},
   "outputs": [],
   "source": [
    "%reset -sf"
   ]
  },
  {
   "cell_type": "code",
   "execution_count": 20,
   "id": "7667b380-1b14-4d41-ba4a-be42f6e55ab7",
   "metadata": {},
   "outputs": [],
   "source": [
    "import torch\n",
    "import torch.nn as nn\n",
    "from torch.optim import SGD\n",
    "import numpy as np\n",
    "import matplotlib.pyplot as plt"
   ]
  },
  {
   "cell_type": "markdown",
   "id": "d8eb70e9-6f9f-43fc-aa72-0a583bee8f02",
   "metadata": {},
   "source": [
    "## Machine Learning Summary\n",
    "\n",
    "Suppose one has data that consists of an independent vector and a dependent vector $x_i$  and $y_i$ ($i$ is the ith value in the data set). For example:\n",
    "\n",
    "- $x_i$ is the height of the $i$th person, and $y_i$ is their weight (predict weight using height)\n",
    "- $x_i$ is a picture of a handwritten digit, and $y_i$ is the digit itself (predict numbers from hand written numbers)\n",
    "- $x_i$ is a CT scan of a patient, and $y_i$ are the corresponding pixels corresponding to tumours (my research)\n",
    "\n",
    "The goal of a neural network is as follows. Define a function $f$ that depends on parameters $a$ that makes predictions\n",
    "\n",
    "$$\n",
    "\\hat{y}_i=f(x_i;a)\n",
    "$$\n",
    "\n",
    "One wants to make $\\hat{y}_i$ (the predictions) and $y_i$ (the true values) as close as possible by modifying the values of $a$. What does as close as possible mean? This depends on the task. In general, one defines a similarity function $L(y,\\hat{y})$ (or **Loss** function) \n",
    ". The more similar all the $\\hat{y}_i$s and $y_i$s are, the smaller $L$ should be. For example 1 above, this could be as simple as\n",
    "\n",
    "$$\n",
    "L(y,\\hat{y})=\\sum_i(y_i-\\hat{y}_i)^2\n",
    "$$\n",
    " \n",
    "## Last Video\n",
    "\n",
    "Given 4 data points $(x_i, y_i)$ and wanted to find a function $f$ such that $f(x_i)=y_i$. Since each $x_i$ was a vector of length $2$, we chose the function\n",
    "$$\n",
    "f(x)=A_2A_1x\n",
    "$$\n",
    "where $A_1$ is a $8 \\times 2$  matrix and $A_2$ is a $1 \\times 8$ matrix. This means there were  $16+8$ free parameters. This simple function did not do a very good job of making $f(x_i)=y_i$."
   ]
  },
  {
   "cell_type": "code",
   "execution_count": 21,
   "id": "c425ad3e-d113-4efe-b876-c5d7aee0fa1c",
   "metadata": {},
   "outputs": [],
   "source": [
    "x = torch.tensor([[6,2],[5,2],[1,3],[7,6]]).float()\n",
    "y = torch.tensor([1,5,2,5]).float()\n",
    "\n",
    "class MyNeuralNet(nn.Module):\n",
    "    def __init__(self):\n",
    "        super().__init__()\n",
    "        self.Matrix1 = nn.Linear(2,8,bias=False)\n",
    "        self.Matrix2 = nn.Linear(8,1,bias=False)\n",
    "    def forward(self,x):\n",
    "        x = self.Matrix1(x)\n",
    "        x = self.Matrix2(x)\n",
    "        return x.squeeze()\n",
    "    \n",
    "f = MyNeuralNet()\n",
    "opt = SGD(f.parameters(), lr=0.001)\n",
    "L = nn.MSELoss()\n",
    "\n",
    "# Train model\n",
    "losses = []\n",
    "for _ in range(50):\n",
    "    opt.zero_grad() # flush previous epoch's gradient\n",
    "    loss_value = L(f(x), y) #compute loss\n",
    "    loss_value.backward() # compute gradient\n",
    "    opt.step() # Perform iteration using gradient above\n",
    "    losses.append(loss_value.item())"
   ]
  },
  {
   "cell_type": "code",
   "execution_count": 22,
   "id": "d9b5b139-0a57-44ad-bfb4-c8569eba3a59",
   "metadata": {},
   "outputs": [
    {
     "data": {
      "text/plain": [
       "tensor([1., 5., 2., 5.])"
      ]
     },
     "execution_count": 22,
     "metadata": {},
     "output_type": "execute_result"
    }
   ],
   "source": [
    "y"
   ]
  },
  {
   "cell_type": "code",
   "execution_count": 23,
   "id": "9a6eb4a5-d1ad-4fb1-990b-bdbb12e7d250",
   "metadata": {},
   "outputs": [
    {
     "data": {
      "text/plain": [
       "tensor([3.4576, 2.9328, 0.9876, 4.5995], grad_fn=<SqueezeBackward0>)"
      ]
     },
     "execution_count": 23,
     "metadata": {},
     "output_type": "execute_result"
    }
   ],
   "source": [
    "f(x)"
   ]
  },
  {
   "cell_type": "markdown",
   "id": "51805208-922f-456a-9277-c6a3a31db334",
   "metadata": {},
   "source": [
    "## This Video\n",
    "\n",
    "As it turns out, our previous model was not very good at all. In fact, although there were 24 parameters in the **two** matrices, there was technically only two independent parameters. This is because\n",
    "$$\n",
    "A_2A_1=B\n",
    "$$\n",
    "where $B$ is a $2 \\times 1$  matrix. So really our function was $f(x)=Bx$\n",
    "\n",
    "### How can we use this simplicity of linear algebra but have advanced models?\n",
    "\n",
    "**The Crux of Machine Learning**: This lies in so-called activation functions, which add ever-so-slight non-linearities to a sequence of matrix transformations. Instead of the transformation\n",
    "$$\n",
    "\\begin{array}{rc} \\mbox{Old Model:} & f(x)=A_2A_1x \\end{array}\n",
    "$$\n",
    "\n",
    "consider instead\n",
    "$$\n",
    "\\begin{array}{rc} \\mbox{New Model:} & f_2(x)=A_2R(A_1x)  \\end{array}\n",
    "$$\n",
    "\n",
    "where $R$ is an element-wise operator defined by\n",
    "$$\n",
    "R(x)=\n",
    "\\left\\{ \\begin{aligned} \n",
    " x &\\quad x \\gt 0\\\\\n",
    " 0 &\\quad x \\leq 0 \n",
    "\\end{aligned} \\right.\n",
    "$$\n",
    " \n",
    "So $R$ is the identity function if $x \\gt 0$ but sets values equal to zero if $x$ is less than zero. This is **so-close** to being a linear operator, but it is not."
   ]
  },
  {
   "cell_type": "code",
   "execution_count": 24,
   "id": "4aa2f0ba-8a3f-46ae-92b2-187057cd305b",
   "metadata": {},
   "outputs": [
    {
     "data": {
      "text/plain": [
       "tensor([[ 4,  6,  2, -1,  6,  2,  5],\n",
       "        [ 1,  6,  2, -6,  5, -3,  5]])"
      ]
     },
     "execution_count": 24,
     "metadata": {},
     "output_type": "execute_result"
    }
   ],
   "source": [
    "x = torch.tensor([[4,6,2,-1,6,2,5],[1,6,2,-6,5,-3,5]])\n",
    "x"
   ]
  },
  {
   "cell_type": "code",
   "execution_count": 25,
   "id": "badc1934-11fc-46f8-b4ff-c3dff52206fd",
   "metadata": {},
   "outputs": [
    {
     "data": {
      "text/plain": [
       "tensor([[4, 6, 2, 0, 6, 2, 5],\n",
       "        [1, 6, 2, 0, 5, 0, 5]])"
      ]
     },
     "execution_count": 25,
     "metadata": {},
     "output_type": "execute_result"
    }
   ],
   "source": [
    "R = nn.ReLU()\n",
    "R(x)"
   ]
  },
  {
   "cell_type": "markdown",
   "id": "829da807-a400-4766-8278-157baaf0cab9",
   "metadata": {},
   "source": [
    "Another example"
   ]
  },
  {
   "cell_type": "code",
   "execution_count": 26,
   "id": "6a96df62-6ae2-43c9-9f42-ed75309a81e0",
   "metadata": {},
   "outputs": [],
   "source": [
    "x = torch.linspace(-3,3,100)\n",
    "y = R(x)"
   ]
  },
  {
   "cell_type": "code",
   "execution_count": 27,
   "id": "d0e25426-df6e-4b19-8867-ff583bd7c577",
   "metadata": {},
   "outputs": [
    {
     "data": {
      "image/png": "[encoded data removed]",
      "text/plain": [
       "<Figure size 640x480 with 1 Axes>"
      ]
     },
     "metadata": {},
     "output_type": "display_data"
    }
   ],
   "source": [
    "plt.plot(x.numpy(), y.numpy())\n",
    "plt.grid()\n",
    "plt.show()"
   ]
  },
  {
   "cell_type": "markdown",
   "id": "2628ae5e-909a-4c94-ba5f-09598028e70e",
   "metadata": {},
   "source": [
    "How much better does our model do with this simple adjustment?"
   ]
  },
  {
   "cell_type": "code",
   "execution_count": 28,
   "id": "3cf2d8ec-6586-4e8d-a4df-34dbc1a4795a",
   "metadata": {},
   "outputs": [],
   "source": [
    "class MyNeuralNet2(nn.Module):\n",
    "    def __init__(self):\n",
    "        super().__init__()\n",
    "        self.Matrix1 = nn.Linear(2,8,bias=False)\n",
    "        self.Matrix2 = nn.Linear(8,1,bias=False)\n",
    "        self.R = nn.ReLU()\n",
    "    def forward(self,x):\n",
    "        x = self.R(self.Matrix1(x))\n",
    "        x = self.Matrix2(x)\n",
    "        return x.squeeze()"
   ]
  },
  {
   "cell_type": "markdown",
   "id": "1280a87e-17f2-44dc-b1b5-294bf25ec420",
   "metadata": {},
   "source": [
    "Train model (lets write a function to do this, since we'll be doing it a lot)"
   ]
  },
  {
   "cell_type": "code",
   "execution_count": 29,
   "id": "a569bf93-4ab6-4769-aa23-3b97273f830e",
   "metadata": {},
   "outputs": [],
   "source": [
    "def train_model(x,y,f, n_epochs=50):\n",
    "    opt = SGD(f.parameters(), lr=0.001)\n",
    "    L = nn.MSELoss()\n",
    "\n",
    "    # Train model\n",
    "    losses = []\n",
    "    for _ in range(n_epochs):\n",
    "        opt.zero_grad() # flush previous epoch's gradient\n",
    "        loss_value = L(f(x), y) #compute loss\n",
    "        loss_value.backward() # compute gradient\n",
    "        opt.step() # Perform iteration using gradient above\n",
    "        losses.append(loss_value.item())\n",
    "    return f, losses"
   ]
  },
  {
   "cell_type": "code",
   "execution_count": 30,
   "id": "71b1e252-f931-4cd6-be33-8329d6e8535c",
   "metadata": {},
   "outputs": [],
   "source": [
    "x = torch.tensor([[6,2],[5,2],[1,3],[7,6]]).float()\n",
    "y = torch.tensor([1,5,2,5]).float()\n",
    "f2 = MyNeuralNet2()\n",
    "\n",
    "# Train model\n",
    "f2, losses2 = train_model(x,y,f2, n_epochs=5000)"
   ]
  },
  {
   "cell_type": "markdown",
   "id": "d877055d-e434-4784-881f-00a50aafd024",
   "metadata": {},
   "source": [
    "Now lets look at the predictions:"
   ]
  },
  {
   "cell_type": "code",
   "execution_count": 31,
   "id": "2991a44f-3f60-4004-a1da-d810f7ccfedb",
   "metadata": {},
   "outputs": [
    {
     "data": {
      "text/plain": [
       "tensor([1., 5., 2., 5.])"
      ]
     },
     "execution_count": 31,
     "metadata": {},
     "output_type": "execute_result"
    }
   ],
   "source": [
    "y"
   ]
  },
  {
   "cell_type": "code",
   "execution_count": 32,
   "id": "58bb96a1-adc4-411c-9891-4d4d1abc6851",
   "metadata": {},
   "outputs": [
    {
     "data": {
      "text/plain": [
       "tensor([3.4576, 2.9328, 0.9876, 4.5995], grad_fn=<SqueezeBackward0>)"
      ]
     },
     "execution_count": 32,
     "metadata": {},
     "output_type": "execute_result"
    }
   ],
   "source": [
    "f(x)"
   ]
  },
  {
   "cell_type": "markdown",
   "id": "aa585d31-ed34-41f4-8634-6a652ccc4736",
   "metadata": {},
   "source": [
    "Slightly better. But the real advantage of this slight non-linearity is that we can make our matrices much larger. Lets make our matrices size $80 \\times 2$ and $1 \\times 80$. This **only** works because of our non-linearity function $R(x)$ :\n",
    "\n",
    "- Without $R(x)$ , we would just have $A_2A_1 = B$ and so $f(x)=Bx$  where $B$ is still a $1 \\times 2$ matrix even though $A_2$ and $A_1$ are larger matrices. The non-linearity function $R(x)$ , to some extent, makes all 240 parameters more independent from each other.\n",
    "\n",
    "$$\n",
    "\\begin{array}{rll} \n",
    "\\mbox{Old Model:}  &f_2(x)=A_2R(A_1x) & A_2 \\mbox{ is } 1 \\times 8 \\mbox{ and } A_1 \\mbox{ is } 8 \\times 2\\\\\n",
    "\\mbox{New Model:} &f_3(x)=A_2R(A_1x) & A_2 \\mbox{ is } 1 \\times 80 \\mbox{ and } A_1 \\mbox{ is } 80 \\times 2\n",
    "\\end{array}\n",
    "$$\n"
   ]
  },
  {
   "cell_type": "code",
   "execution_count": 33,
   "id": "e87fc1c5-1ddf-45fc-bca4-b715eee84a3e",
   "metadata": {},
   "outputs": [],
   "source": [
    "class MyNeuralNet3(nn.Module):\n",
    "    def __init__(self):\n",
    "        super().__init__()\n",
    "        self.Matrix1 = nn.Linear(2,80, bias=False)\n",
    "        self.Matrix2 = nn.Linear(80,1, bias=False)\n",
    "        self.R = nn.ReLU()\n",
    "    def forward(self,x):\n",
    "        x = self.R(self.Matrix1(x))\n",
    "        x = self.Matrix2(x)\n",
    "        return x.squeeze()"
   ]
  },
  {
   "cell_type": "markdown",
   "id": "c5075aa5-76b8-441f-9f8c-489ac3bd8bda",
   "metadata": {},
   "source": [
    "Train model:"
   ]
  },
  {
   "cell_type": "code",
   "execution_count": 34,
   "id": "bd5426d8-d299-4ccf-996f-cf3c7e6927ad",
   "metadata": {},
   "outputs": [],
   "source": [
    "x = torch.tensor([[6,2],[5,2],[1,3],[7,6]]).float()\n",
    "y = torch.tensor([1,5,2,5]).float()\n",
    "f3 = MyNeuralNet3()\n",
    "\n",
    "# Train model\n",
    "f3, losses3 = train_model(x,y,f3, n_epochs=5000)"
   ]
  },
  {
   "cell_type": "code",
   "execution_count": 35,
   "id": "b1ed1cbb-b146-4012-b839-3c3da5c087d5",
   "metadata": {},
   "outputs": [
    {
     "data": {
      "text/plain": [
       "tensor([1., 5., 2., 5.])"
      ]
     },
     "execution_count": 35,
     "metadata": {},
     "output_type": "execute_result"
    }
   ],
   "source": [
    "y"
   ]
  },
  {
   "cell_type": "code",
   "execution_count": 36,
   "id": "00183302-dede-4c4f-91e0-d0716c5f73ec",
   "metadata": {},
   "outputs": [
    {
     "data": {
      "text/plain": [
       "tensor([1.4833, 4.3151, 1.9545, 5.0763], grad_fn=<SqueezeBackward0>)"
      ]
     },
     "execution_count": 36,
     "metadata": {},
     "output_type": "execute_result"
    }
   ],
   "source": [
    "f3(x)"
   ]
  },
  {
   "cell_type": "markdown",
   "id": "f3482881-31fa-4b02-ad82-94e0b0d1dce9",
   "metadata": {},
   "source": [
    "Closer, but still not exact. We can make our model better by introducing other parameters:\n",
    "$$\n",
    "f(x)=A_2R(A_1x+b_1)+b_2\n",
    "$$\n",
    "\n",
    "where $b_1$ and $b_2$ are vectors added to each of the linear transformations.\n",
    "$$\n",
    "\\begin{array}{rll} \n",
    "\\mbox{Old Model:}  &f_3(x)=A_2R(A_1x) & A_2 \\mbox{ is } 1\\times80 \\mbox{ and } A_1 \\mbox{ is } 80\\times2\\\\\n",
    "\\mbox{New Model:} &f_4(x)=A_2R(A_1x+b_1)+b_2 & A_2 \\mbox{ is } 1 \\times 80 \\mbox{ and } A_1 \\mbox{ is } 80 \\times 2\n",
    "\\end{array}\n",
    "$$"
   ]
  },
  {
   "cell_type": "code",
   "execution_count": 37,
   "id": "ab248e03-ee44-4a6f-94f6-02ea3e670a24",
   "metadata": {},
   "outputs": [],
   "source": [
    "class MyNeuralNet4(nn.Module):\n",
    "    def __init__(self):\n",
    "        super().__init__()\n",
    "        self.Matrix1 = nn.Linear(2,80)\n",
    "        self.Matrix2 = nn.Linear(80,1)\n",
    "        self.R = nn.ReLU()\n",
    "    def forward(self,x):\n",
    "        x = self.R(self.Matrix1(x))\n",
    "        x = self.Matrix2(x)\n",
    "        return x.squeeze()"
   ]
  },
  {
   "cell_type": "code",
   "execution_count": 38,
   "id": "4ee989d1-215f-4d51-a526-2666f5a8ad9d",
   "metadata": {},
   "outputs": [],
   "source": [
    "x = torch.tensor([[6,2],[5,2],[1,3],[7,6]]).float()\n",
    "y = torch.tensor([1,5,2,5]).float()\n",
    "f4 = MyNeuralNet4()\n",
    "\n",
    "# Train model\n",
    "f4, losses4 = train_model(x,y,f4, n_epochs=5000)"
   ]
  },
  {
   "cell_type": "code",
   "execution_count": 39,
   "id": "81bed3f4-3e56-4528-91a6-c7ad2b938588",
   "metadata": {},
   "outputs": [
    {
     "data": {
      "text/plain": [
       "tensor([1., 5., 2., 5.])"
      ]
     },
     "execution_count": 39,
     "metadata": {},
     "output_type": "execute_result"
    }
   ],
   "source": [
    "y"
   ]
  },
  {
   "cell_type": "code",
   "execution_count": 40,
   "id": "29984358-3d41-4989-9d12-06becf4706f8",
   "metadata": {},
   "outputs": [
    {
     "data": {
      "text/plain": [
       "tensor([1.8272, 4.0112, 2.0714, 4.9982], grad_fn=<SqueezeBackward0>)"
      ]
     },
     "execution_count": 40,
     "metadata": {},
     "output_type": "execute_result"
    }
   ],
   "source": [
    "f4(x)"
   ]
  },
  {
   "cell_type": "markdown",
   "id": "0afbbaf6-db68-483a-b4d2-026ae2bf5fd3",
   "metadata": {},
   "source": [
    "Better, but its still not getting us that close to $y$, however. What if we add another matrix in the middle?\n",
    "$$\n",
    "\\begin{array}{rll} \n",
    "\\mbox{Old Model:}  &f_4(x)=A_2R(A_1x+b_1)+b_2 & A_2 \\mbox{ is } 1\\times80 \\mbox{ and } A_1 \\mbox{ is } 80\\times2\\\\\n",
    "\\mbox{New Model:} &f_5(x)=A_3R(A_2R(A_1x+b_1)+b_2) & A_3 \\mbox{ is } 1 \\times 80 \\mbox{ and } A_2 \\mbox{ is } 80 \\times 80 \\mbox{ and } A_1 \\mbox{ is } 80 \\times 2\n",
    "\\end{array}\n",
    "$$"
   ]
  },
  {
   "cell_type": "code",
   "execution_count": 41,
   "id": "1c977a12-b9af-49c6-bf8c-2c26fb98687f",
   "metadata": {},
   "outputs": [],
   "source": [
    "class MyNeuralNet5(nn.Module):\n",
    "    def __init__(self):\n",
    "        super().__init__()\n",
    "        self.Matrix1 = nn.Linear(2,80)\n",
    "        self.Matrix2 = nn.Linear(80,80)\n",
    "        self.Matrix3 = nn.Linear(80,1)\n",
    "        self.R = nn.ReLU()\n",
    "    def forward(self,x):\n",
    "        x = self.R(self.Matrix1(x))\n",
    "        x = self.R(self.Matrix2(x))\n",
    "        x = self.Matrix3(x)\n",
    "        return x.squeeze()\n",
    "\n",
    "x = torch.tensor([[6,2],[5,2],[1,3],[7,6]]).float()\n",
    "y = torch.tensor([1,5,2,5]).float()\n",
    "f5 = MyNeuralNet5()\n",
    "\n",
    "# Train model\n",
    "f5, losses5 = train_model(x,y,f5, n_epochs=5000)"
   ]
  },
  {
   "cell_type": "code",
   "execution_count": 42,
   "id": "4be8e087-dd50-4e80-9387-7ad16a1cb99c",
   "metadata": {},
   "outputs": [
    {
     "data": {
      "text/plain": [
       "tensor([1., 5., 2., 5.])"
      ]
     },
     "execution_count": 42,
     "metadata": {},
     "output_type": "execute_result"
    }
   ],
   "source": [
    "y"
   ]
  },
  {
   "cell_type": "code",
   "execution_count": 43,
   "id": "b03c537a-a516-4927-8b05-112087bf2ea9",
   "metadata": {},
   "outputs": [
    {
     "data": {
      "text/plain": [
       "tensor([1.0010, 4.9989, 2.0000, 5.0001], grad_fn=<SqueezeBackward0>)"
      ]
     },
     "execution_count": 43,
     "metadata": {},
     "output_type": "execute_result"
    }
   ],
   "source": [
    "f5(x)"
   ]
  },
  {
   "cell_type": "markdown",
   "id": "fb10f8f8-d231-4bc8-a204-0c35d13a30ab",
   "metadata": {},
   "source": [
    "Its predicting $y$ almost exactly (albeit by overfitting, no doubt, but the message here is that the model has the potential to fit to these arbitrary data points, through a sequence of **linear** transofmrations followed by slightly non-linear )\n",
    "\n",
    "## The \"Sequential\" Neural Network\n",
    "\n",
    "A general \"sequential\" neural network can be expressed as\n",
    "$$\n",
    "f(x)=\\mathop{\\Large{\\kappa}}\\limits_{i=1}^{n}R_i(A_ix+b_i)\n",
    "$$\n",
    "where $\\mathop{\\Large{\\kappa}}\\limits_{i=1}^{n}f_i(x)=f_n \\circ f_{n-1}\\ldots \\circ f_1(x)$ and the $A_i$ are matrices and the $b_i$ are bias vectors. Typically the $R_i$ are the same for all the layers (typically ReLU) **except** for the last layer, where $R_i$ is just is just the identity function\n",
    "\n",
    "- **Note**: In clever architectures, like convolutional neural networks, the $A_i$'s become sparse matrices (most of there parameters are fixed to equal zero)."
   ]
  },
  {
   "cell_type": "code",
   "execution_count": null,
   "id": "e75bab2e-4eb0-42e9-b2a6-a4d09548484a",
   "metadata": {},
   "outputs": [],
   "source": []
  }
 ],
 "metadata": {
  "kernelspec": {
   "display_name": "Python 3 (ipykernel)",
   "language": "python",
   "name": "python3"
  },
  "language_info": {
   "codemirror_mode": {
    "name": "ipython",
    "version": 3
   },
   "file_extension": ".py",
   "mimetype": "text/x-python",
   "name": "python",
   "nbconvert_exporter": "python",
   "pygments_lexer": "ipython3",
   "version": "3.10.10"
  }
 },
 "nbformat": 4,
 "nbformat_minor": 5
}
